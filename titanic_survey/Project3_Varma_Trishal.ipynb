{
 "cells": [
  {
   "cell_type": "markdown",
   "metadata": {},
   "source": [
    "# Project 3 - Machine Learning\n",
    "##### Trishal Varma - txv130330@utdallas.edu \n",
    "\n"
   ]
  },
  {
   "cell_type": "markdown",
   "metadata": {},
   "source": [
    "## Data Cleaning \n",
    "\n",
    "To get a better sense of which data to use we will perform Data Clearning on certain columns:\n",
    "\n",
    "    We are going to: \n",
    "        Remove Columns that are not needed\n",
    "        Replace NA as mean for missing values in Age & Survived \n",
    "            Drop remaining NA's from remaining columns\n",
    "        Change sex to a cat code where 0 is Female and 1 is a Male. "
   ]
  },
  {
   "cell_type": "code",
   "execution_count": 44,
   "metadata": {},
   "outputs": [],
   "source": [
    "# IMPORTS \n",
    "import pandas as pd\n",
    "import numpy as np\n",
    "import seaborn as sb\n",
    "import matplotlib.pyplot as plt\n",
    "\n",
    "import warnings \n",
    "warnings.filterwarnings('ignore')"
   ]
  },
  {
   "cell_type": "code",
   "execution_count": 45,
   "metadata": {},
   "outputs": [
    {
     "name": "stdout",
     "output_type": "stream",
     "text": [
      "   pclass  survived                                             name     sex  \\\n",
      "0     1.0       1.0                    Allen, Miss. Elisabeth Walton  female   \n",
      "1     1.0       1.0                   Allison, Master. Hudson Trevor    male   \n",
      "2     1.0       0.0                     Allison, Miss. Helen Loraine  female   \n",
      "3     1.0       0.0             Allison, Mr. Hudson Joshua Creighton    male   \n",
      "4     1.0       0.0  Allison, Mrs. Hudson J C (Bessie Waldo Daniels)  female   \n",
      "\n",
      "       age  sibsp  parch  ticket      fare    cabin embarked boat   body  \\\n",
      "0  29.0000    0.0    0.0   24160  211.3375       B5        S    2    NaN   \n",
      "1   0.9167    1.0    2.0  113781  151.5500  C22 C26        S   11    NaN   \n",
      "2   2.0000    1.0    2.0  113781  151.5500  C22 C26        S  NaN    NaN   \n",
      "3  30.0000    1.0    2.0  113781  151.5500  C22 C26        S  NaN  135.0   \n",
      "4  25.0000    1.0    2.0  113781  151.5500  C22 C26        S  NaN    NaN   \n",
      "\n",
      "                         home.dest  \n",
      "0                     St Louis, MO  \n",
      "1  Montreal, PQ / Chesterville, ON  \n",
      "2  Montreal, PQ / Chesterville, ON  \n",
      "3  Montreal, PQ / Chesterville, ON  \n",
      "4  Montreal, PQ / Chesterville, ON  \n",
      "\n",
      "Dimensions of Data Frame: (1310, 14)\n"
     ]
    }
   ],
   "source": [
    "#### Importing titanic3.csv\n",
    "\n",
    "df = pd.read_csv('titanic3.csv')\n",
    "print(df.head())\n",
    "print('\\nDimensions of Data Frame:', df.shape)"
   ]
  },
  {
   "cell_type": "code",
   "execution_count": 46,
   "metadata": {},
   "outputs": [
    {
     "name": "stdout",
     "output_type": "stream",
     "text": [
      "   pclass  survived     sex      age  sibsp  parch      fare\n",
      "0     1.0       1.0  female  29.0000    0.0    0.0  211.3375\n",
      "1     1.0       1.0    male   0.9167    1.0    2.0  151.5500\n",
      "2     1.0       0.0  female   2.0000    1.0    2.0  151.5500\n",
      "3     1.0       0.0    male  30.0000    1.0    2.0  151.5500\n",
      "4     1.0       0.0  female  25.0000    1.0    2.0  151.5500\n"
     ]
    }
   ],
   "source": [
    "# Removing unnecessary columns\n",
    "\n",
    "df = df.drop(columns = ['cabin','boat','body','home.dest', 'name', 'embarked', 'ticket'])\n",
    "print(df.head())"
   ]
  },
  {
   "cell_type": "code",
   "execution_count": 47,
   "metadata": {},
   "outputs": [
    {
     "data": {
      "text/plain": [
       "pclass        1\n",
       "survived      1\n",
       "sex           1\n",
       "age         264\n",
       "sibsp         1\n",
       "parch         1\n",
       "fare          2\n",
       "dtype: int64"
      ]
     },
     "execution_count": 47,
     "metadata": {},
     "output_type": "execute_result"
    }
   ],
   "source": [
    "# Checking for null values \n",
    "df.isnull().sum()"
   ]
  },
  {
   "cell_type": "code",
   "execution_count": 48,
   "metadata": {},
   "outputs": [
    {
     "data": {
      "text/plain": [
       "pclass      1\n",
       "survived    1\n",
       "sex         1\n",
       "age         0\n",
       "sibsp       1\n",
       "parch       1\n",
       "fare        2\n",
       "dtype: int64"
      ]
     },
     "execution_count": 48,
     "metadata": {},
     "output_type": "execute_result"
    }
   ],
   "source": [
    "# Example of using numpy to get rid of NA and fill it with mean average of age for missing values. \n",
    "\n",
    "age_mean = np.mean(df.age)\n",
    "df.age.fillna(age_mean, inplace = True)\n",
    "\n",
    "df.isnull().sum()"
   ]
  },
  {
   "cell_type": "code",
   "execution_count": 49,
   "metadata": {},
   "outputs": [
    {
     "name": "stdout",
     "output_type": "stream",
     "text": [
      "\n",
      "Dimensions of data frame:  (1308, 7)\n"
     ]
    },
    {
     "data": {
      "text/plain": [
       "pclass      float64\n",
       "survived    float64\n",
       "sex          object\n",
       "age         float64\n",
       "sibsp       float64\n",
       "parch       float64\n",
       "fare        float64\n",
       "dtype: object"
      ]
     },
     "execution_count": 49,
     "metadata": {},
     "output_type": "execute_result"
    }
   ],
   "source": [
    "df = df.dropna()\n",
    "print('\\nDimensions of data frame: ', df.shape)\n",
    "df.dtypes"
   ]
  },
  {
   "cell_type": "code",
   "execution_count": 50,
   "metadata": {},
   "outputs": [
    {
     "name": "stdout",
     "output_type": "stream",
     "text": [
      "pclass      float64\n",
      "survived    float64\n",
      "sex            int8\n",
      "age         float64\n",
      "sibsp       float64\n",
      "parch       float64\n",
      "fare        float64\n",
      "dtype: object \n",
      "\n",
      "   pclass  survived  sex      age  sibsp  parch      fare\n",
      "0     1.0       1.0    0  29.0000    0.0    0.0  211.3375\n",
      "1     1.0       1.0    1   0.9167    1.0    2.0  151.5500\n",
      "2     1.0       0.0    0   2.0000    1.0    2.0  151.5500\n",
      "3     1.0       0.0    1  30.0000    1.0    2.0  151.5500\n",
      "4     1.0       0.0    0  25.0000    1.0    2.0  151.5500\n",
      "\n",
      "\n",
      "\n",
      "\n"
     ]
    }
   ],
   "source": [
    "# changing sex to a categorical data type \n",
    "\n",
    "df1 = df.copy()\n",
    "\n",
    "df1.sex = df1.sex.astype('category').cat.codes\n",
    "\n",
    "## 0 is female \n",
    "## 1 is male\n",
    "\n",
    "print(df1.dtypes, \"\\n\")\n",
    "print(df1.head())\n",
    "print(\"\\n\")\n",
    "print(\"\\n\")"
   ]
  },
  {
   "cell_type": "markdown",
   "metadata": {},
   "source": [
    "## Data Exploration \n",
    "\n",
    "Here we are going to take a look at the data in many different ways to visually and numerically see the trends. "
   ]
  },
  {
   "cell_type": "code",
   "execution_count": 88,
   "metadata": {},
   "outputs": [
    {
     "data": {
      "text/plain": [
       "pclass           1\n",
       "survived         0\n",
       "sex         female\n",
       "age         0.1667\n",
       "sibsp            0\n",
       "parch            0\n",
       "fare             0\n",
       "dtype: object"
      ]
     },
     "execution_count": 88,
     "metadata": {},
     "output_type": "execute_result"
    }
   ],
   "source": [
    "# Minium calues for each column. \n",
    "# Here we can see min age is .1667 - baby was weeks old. \n",
    "df.min()"
   ]
  },
  {
   "cell_type": "code",
   "execution_count": 52,
   "metadata": {},
   "outputs": [
    {
     "data": {
      "text/plain": [
       "pclass            3\n",
       "survived          1\n",
       "sex            male\n",
       "age              80\n",
       "sibsp             8\n",
       "parch             9\n",
       "fare        512.329\n",
       "dtype: object"
      ]
     },
     "execution_count": 52,
     "metadata": {},
     "output_type": "execute_result"
    }
   ],
   "source": [
    "# Max values of each column, we notice that the oldest age it 80. \n",
    "# Highest fare price was $512.33\n",
    "df.max()"
   ]
  },
  {
   "cell_type": "code",
   "execution_count": 53,
   "metadata": {},
   "outputs": [
    {
     "data": {
      "text/html": [
       "<div>\n",
       "<style scoped>\n",
       "    .dataframe tbody tr th:only-of-type {\n",
       "        vertical-align: middle;\n",
       "    }\n",
       "\n",
       "    .dataframe tbody tr th {\n",
       "        vertical-align: top;\n",
       "    }\n",
       "\n",
       "    .dataframe thead th {\n",
       "        text-align: right;\n",
       "    }\n",
       "</style>\n",
       "<table border=\"1\" class=\"dataframe\">\n",
       "  <thead>\n",
       "    <tr style=\"text-align: right;\">\n",
       "      <th></th>\n",
       "      <th>pclass</th>\n",
       "      <th>survived</th>\n",
       "      <th>sex</th>\n",
       "      <th>age</th>\n",
       "      <th>sibsp</th>\n",
       "      <th>parch</th>\n",
       "      <th>fare</th>\n",
       "    </tr>\n",
       "  </thead>\n",
       "  <tbody>\n",
       "    <tr>\n",
       "      <th>763</th>\n",
       "      <td>3.0</td>\n",
       "      <td>1.0</td>\n",
       "      <td>female</td>\n",
       "      <td>0.1667</td>\n",
       "      <td>1.0</td>\n",
       "      <td>2.0</td>\n",
       "      <td>20.5750</td>\n",
       "    </tr>\n",
       "    <tr>\n",
       "      <th>747</th>\n",
       "      <td>3.0</td>\n",
       "      <td>0.0</td>\n",
       "      <td>male</td>\n",
       "      <td>0.3333</td>\n",
       "      <td>0.0</td>\n",
       "      <td>2.0</td>\n",
       "      <td>14.4000</td>\n",
       "    </tr>\n",
       "    <tr>\n",
       "      <th>1240</th>\n",
       "      <td>3.0</td>\n",
       "      <td>1.0</td>\n",
       "      <td>male</td>\n",
       "      <td>0.4167</td>\n",
       "      <td>0.0</td>\n",
       "      <td>1.0</td>\n",
       "      <td>8.5167</td>\n",
       "    </tr>\n",
       "    <tr>\n",
       "      <th>427</th>\n",
       "      <td>2.0</td>\n",
       "      <td>1.0</td>\n",
       "      <td>male</td>\n",
       "      <td>0.6667</td>\n",
       "      <td>1.0</td>\n",
       "      <td>1.0</td>\n",
       "      <td>14.5000</td>\n",
       "    </tr>\n",
       "    <tr>\n",
       "      <th>658</th>\n",
       "      <td>3.0</td>\n",
       "      <td>1.0</td>\n",
       "      <td>female</td>\n",
       "      <td>0.7500</td>\n",
       "      <td>2.0</td>\n",
       "      <td>1.0</td>\n",
       "      <td>19.2583</td>\n",
       "    </tr>\n",
       "  </tbody>\n",
       "</table>\n",
       "</div>"
      ],
      "text/plain": [
       "      pclass  survived     sex     age  sibsp  parch     fare\n",
       "763      3.0       1.0  female  0.1667    1.0    2.0  20.5750\n",
       "747      3.0       0.0    male  0.3333    0.0    2.0  14.4000\n",
       "1240     3.0       1.0    male  0.4167    0.0    1.0   8.5167\n",
       "427      2.0       1.0    male  0.6667    1.0    1.0  14.5000\n",
       "658      3.0       1.0  female  0.7500    2.0    1.0  19.2583"
      ]
     },
     "execution_count": 53,
     "metadata": {},
     "output_type": "execute_result"
    }
   ],
   "source": [
    "# Sorting values by age. You can see that the age is from lowest and highest being at the bottom, which will be 80.\n",
    "# Here are the first 5 \n",
    "df.sort_values(by=['age']).head(5)"
   ]
  },
  {
   "cell_type": "markdown",
   "metadata": {},
   "source": [
    "### Visual Data Exploration "
   ]
  },
  {
   "cell_type": "code",
   "execution_count": 54,
   "metadata": {},
   "outputs": [
    {
     "name": "stdout",
     "output_type": "stream",
     "text": [
      "\n",
      "\n"
     ]
    },
    {
     "data": {
      "image/png": "[encoded data removed]",
      "text/plain": [
       "<Figure size 432x288 with 1 Axes>"
      ]
     },
     "metadata": {},
     "output_type": "display_data"
    }
   ],
   "source": [
    "## Using Seaborn to show visual data. \n",
    "print(\"\\n\")\n",
    "sb.boxplot('pclass', y='age', data = df1)\n",
    "sb.despine(trim=True, left=True)"
   ]
  },
  {
   "cell_type": "code",
   "execution_count": 55,
   "metadata": {},
   "outputs": [
    {
     "name": "stdout",
     "output_type": "stream",
     "text": [
      "Skewness: 4.367709\n"
     ]
    },
    {
     "data": {
      "image/png": "[encoded data removed]",
      "text/plain": [
       "<Figure size 432x288 with 1 Axes>"
      ]
     },
     "metadata": {},
     "output_type": "display_data"
    }
   ],
   "source": [
    "sb.distplot(df1.fare)\n",
    "\n",
    "print(\"Skewness: %f\" % df1.fare.skew())"
   ]
  },
  {
   "cell_type": "code",
   "execution_count": 56,
   "metadata": {},
   "outputs": [
    {
     "data": {
      "image/png": "[encoded data removed]",
      "text/plain": [
       "<Figure size 540x540 with 12 Axes>"
      ]
     },
     "metadata": {},
     "output_type": "display_data"
    },
    {
     "name": "stdout",
     "output_type": "stream",
     "text": [
      "\n",
      "\n"
     ]
    }
   ],
   "source": [
    "sb.set()\n",
    "cols = ['fare', 'pclass', 'age']\n",
    "sb.pairplot(df1[cols], height =2.5)\n",
    "plt.show()\n",
    "print(\"\\n\")"
   ]
  },
  {
   "cell_type": "markdown",
   "metadata": {},
   "source": [
    "## Machine Learning Algorithms "
   ]
  },
  {
   "cell_type": "markdown",
   "metadata": {},
   "source": [
    "    Algorithms used: \n",
    "        Linear Regression\n",
    "        Logistic Regression \n",
    "        Multinomial Naive Bayes\n",
    "        Bernoulli Naive Bayes\n",
    "        kNN Classification\n",
    "        kNN Regression \n",
    "        Random Forest"
   ]
  },
  {
   "cell_type": "markdown",
   "metadata": {},
   "source": [
    "### Linear Regression "
   ]
  },
  {
   "cell_type": "code",
   "execution_count": 57,
   "metadata": {},
   "outputs": [
    {
     "name": "stdout",
     "output_type": "stream",
     "text": [
      "\n",
      "Dimensions of Data Frame (1308, 7)\n",
      "\n",
      "Describe rm and medv: \n",
      "                age         fare\n",
      "count  1308.000000  1308.000000\n",
      "mean     29.857726    33.295479\n",
      "std      12.860247    51.758668\n",
      "min       0.166700     0.000000\n",
      "25%      22.000000     7.895800\n",
      "50%      29.881135    14.454200\n",
      "75%      35.000000    31.275000\n",
      "max      80.000000   512.329200\n",
      "\n",
      "\n"
     ]
    }
   ],
   "source": [
    "print(\"\\nDimensions of Data Frame\", df.shape)\n",
    "print(\"\\nDescribe rm and medv: \\n\", df.loc[:,['age', 'fare']].describe())\n",
    "print(\"\\n\")"
   ]
  },
  {
   "cell_type": "markdown",
   "metadata": {},
   "source": [
    "#### Here we create a train and test model"
   ]
  },
  {
   "cell_type": "code",
   "execution_count": 58,
   "metadata": {},
   "outputs": [
    {
     "name": "stdout",
     "output_type": "stream",
     "text": [
      "train size:  (1046, 7)\n",
      "test size,  (262, 7)\n"
     ]
    }
   ],
   "source": [
    "from sklearn.model_selection import train_test_split\n",
    "\n",
    "X = df1.iloc[:, 0:7]\n",
    "y = df1.iloc[:, 6]\n",
    "\n",
    "X_train, X_test, y_train, y_test = train_test_split(X,y,test_size=0.2, random_state=1234)\n",
    "\n",
    "print('train size: ', X_train.shape)\n",
    "print('test size, ', X_test.shape)"
   ]
  },
  {
   "cell_type": "code",
   "execution_count": 59,
   "metadata": {},
   "outputs": [
    {
     "data": {
      "text/plain": [
       "LinearRegression()"
      ]
     },
     "execution_count": 59,
     "metadata": {},
     "output_type": "execute_result"
    }
   ],
   "source": [
    "# We will not train the algorithm \n",
    "from sklearn.linear_model import LinearRegression\n",
    "\n",
    "linreg = LinearRegression()\n",
    "linreg.fit(X_train, y_train)\n"
   ]
  },
  {
   "cell_type": "code",
   "execution_count": 60,
   "metadata": {},
   "outputs": [
    {
     "name": "stdout",
     "output_type": "stream",
     "text": [
      "Intercepts:  7.105427357601002e-14\n",
      "Coefficients:  [-2.82169423e-14 -5.77315973e-15  1.73710872e-15  1.38777878e-16\n",
      "  2.10682166e-15  2.60425362e-16  1.00000000e+00]\n"
     ]
    }
   ],
   "source": [
    "print(\"Intercepts: \", linreg.intercept_)\n",
    "print(\"Coefficients: \", linreg.coef_)"
   ]
  },
  {
   "cell_type": "code",
   "execution_count": 61,
   "metadata": {},
   "outputs": [],
   "source": [
    "y_pred = linreg.predict(X_test)"
   ]
  },
  {
   "cell_type": "code",
   "execution_count": 62,
   "metadata": {},
   "outputs": [
    {
     "name": "stdout",
     "output_type": "stream",
     "text": [
      "mse =  4.557637079142506e-28\n",
      "correlation=  1.0\n"
     ]
    }
   ],
   "source": [
    "from sklearn.metrics import mean_squared_error, r2_score\n",
    "\n",
    "print('mse = ', mean_squared_error(y_test, y_pred))\n",
    "print('correlation= ', r2_score(y_test, y_pred))"
   ]
  },
  {
   "cell_type": "code",
   "execution_count": 63,
   "metadata": {},
   "outputs": [
    {
     "name": "stdout",
     "output_type": "stream",
     "text": [
      "\n",
      "\n"
     ]
    },
    {
     "data": {
      "image/png": "[encoded data removed]",
      "text/plain": [
       "<Figure size 432x288 with 1 Axes>"
      ]
     },
     "metadata": {},
     "output_type": "display_data"
    }
   ],
   "source": [
    "sb.regplot(x=y_test, y=y_pred)\n",
    "print(\"\\n\")"
   ]
  },
  {
   "cell_type": "markdown",
   "metadata": {},
   "source": [
    "### Logistic Regression "
   ]
  },
  {
   "cell_type": "code",
   "execution_count": 64,
   "metadata": {},
   "outputs": [
    {
     "name": "stdout",
     "output_type": "stream",
     "text": [
      "   pclass  survived     sex      age\n",
      "0     1.0       1.0  female  29.0000\n",
      "1     1.0       1.0    male   0.9167\n",
      "2     1.0       0.0  female   2.0000\n",
      "3     1.0       0.0    male  30.0000\n",
      "4     1.0       0.0  female  25.0000\n",
      "5     1.0       1.0    male  48.0000\n",
      "6     1.0       1.0  female  63.0000\n",
      "7     1.0       0.0    male  39.0000\n",
      "8     1.0       1.0  female  53.0000\n",
      "9     1.0       0.0    male  71.0000\n",
      "\n",
      "Dimensions of Data Frame:  (1310, 4)\n"
     ]
    }
   ],
   "source": [
    "df2 = pd.read_csv('titanic3.csv', usecols=['pclass','survived','sex','age'])\n",
    "print(df2.head(10))\n",
    "print(\"\\nDimensions of Data Frame: \", df2.shape)"
   ]
  },
  {
   "cell_type": "code",
   "execution_count": 65,
   "metadata": {},
   "outputs": [
    {
     "data": {
      "text/html": [
       "<div>\n",
       "<style scoped>\n",
       "    .dataframe tbody tr th:only-of-type {\n",
       "        vertical-align: middle;\n",
       "    }\n",
       "\n",
       "    .dataframe tbody tr th {\n",
       "        vertical-align: top;\n",
       "    }\n",
       "\n",
       "    .dataframe thead th {\n",
       "        text-align: right;\n",
       "    }\n",
       "</style>\n",
       "<table border=\"1\" class=\"dataframe\">\n",
       "  <thead>\n",
       "    <tr style=\"text-align: right;\">\n",
       "      <th></th>\n",
       "      <th>pclass</th>\n",
       "      <th>survived</th>\n",
       "      <th>sex</th>\n",
       "      <th>age</th>\n",
       "    </tr>\n",
       "  </thead>\n",
       "  <tbody>\n",
       "    <tr>\n",
       "      <th>0</th>\n",
       "      <td>0</td>\n",
       "      <td>1</td>\n",
       "      <td>0</td>\n",
       "      <td>29.0000</td>\n",
       "    </tr>\n",
       "    <tr>\n",
       "      <th>1</th>\n",
       "      <td>0</td>\n",
       "      <td>1</td>\n",
       "      <td>1</td>\n",
       "      <td>0.9167</td>\n",
       "    </tr>\n",
       "    <tr>\n",
       "      <th>2</th>\n",
       "      <td>0</td>\n",
       "      <td>0</td>\n",
       "      <td>0</td>\n",
       "      <td>2.0000</td>\n",
       "    </tr>\n",
       "    <tr>\n",
       "      <th>3</th>\n",
       "      <td>0</td>\n",
       "      <td>0</td>\n",
       "      <td>1</td>\n",
       "      <td>30.0000</td>\n",
       "    </tr>\n",
       "    <tr>\n",
       "      <th>4</th>\n",
       "      <td>0</td>\n",
       "      <td>0</td>\n",
       "      <td>0</td>\n",
       "      <td>25.0000</td>\n",
       "    </tr>\n",
       "  </tbody>\n",
       "</table>\n",
       "</div>"
      ],
      "text/plain": [
       "   pclass  survived  sex      age\n",
       "0       0         1    0  29.0000\n",
       "1       0         1    1   0.9167\n",
       "2       0         0    0   2.0000\n",
       "3       0         0    1  30.0000\n",
       "4       0         0    0  25.0000"
      ]
     },
     "execution_count": 65,
     "metadata": {},
     "output_type": "execute_result"
    }
   ],
   "source": [
    "# Converting columns into factors\n",
    "\n",
    "df2.survived = df2.survived.astype('category').cat.codes\n",
    "df2.pclass = df2.pclass.astype('category').cat.codes\n",
    "df2.sex = df2.sex.astype('category').cat.codes\n",
    "df2.head()"
   ]
  },
  {
   "cell_type": "code",
   "execution_count": 66,
   "metadata": {},
   "outputs": [
    {
     "data": {
      "text/plain": [
       "pclass        0\n",
       "survived      0\n",
       "sex           0\n",
       "age         264\n",
       "dtype: int64"
      ]
     },
     "execution_count": 66,
     "metadata": {},
     "output_type": "execute_result"
    }
   ],
   "source": [
    "df2.isnull().sum()"
   ]
  },
  {
   "cell_type": "code",
   "execution_count": 67,
   "metadata": {},
   "outputs": [],
   "source": [
    "# filling in the missing age NA's as mean\n",
    "#age_mean = np.mean(df2.age)  < - used from df1 forumal above. \n",
    "df2.age.fillna(age_mean, inplace = True)"
   ]
  },
  {
   "cell_type": "code",
   "execution_count": 68,
   "metadata": {},
   "outputs": [
    {
     "name": "stdout",
     "output_type": "stream",
     "text": [
      "Train size:  (1048, 3)\n",
      "Test size:  (262, 3)\n"
     ]
    }
   ],
   "source": [
    "X = df2.loc[:, ['pclass', 'age', 'sex']]\n",
    "y = df2.survived\n",
    "\n",
    "X_train, X_test, y_train, y_test = train_test_split(X, y, test_size = .2, random_state = 0)\n",
    "\n",
    "print('Train size: ', X_train.shape)\n",
    "print('Test size: ', X_test.shape)"
   ]
  },
  {
   "cell_type": "markdown",
   "metadata": {},
   "source": [
    "    Now we start the Logistic Regression since we have a Test and a Train"
   ]
  },
  {
   "cell_type": "code",
   "execution_count": 69,
   "metadata": {},
   "outputs": [
    {
     "data": {
      "text/plain": [
       "0.7805343511450382"
      ]
     },
     "execution_count": 69,
     "metadata": {},
     "output_type": "execute_result"
    }
   ],
   "source": [
    "from sklearn.linear_model import LogisticRegression\n",
    "clf = LogisticRegression()\n",
    "clf.fit(X_train, y_train)\n",
    "clf.score(X_train, y_train) # this is the score on the model fit. Accuracy score. "
   ]
  },
  {
   "cell_type": "code",
   "execution_count": 70,
   "metadata": {},
   "outputs": [],
   "source": [
    "pred = clf.predict(X_test)"
   ]
  },
  {
   "cell_type": "code",
   "execution_count": 71,
   "metadata": {},
   "outputs": [
    {
     "name": "stdout",
     "output_type": "stream",
     "text": [
      "Accuracy Score:  0.8053435114503816\n",
      "Precision Score:  0.8017028772753964\n",
      "Recall SCore:  0.8053435114503816\n",
      "F1 Score:  0.7986518490896126\n"
     ]
    }
   ],
   "source": [
    "from sklearn.metrics import accuracy_score, precision_score, recall_score, f1_score\n",
    "\n",
    "print('Accuracy Score: ' , accuracy_score(y_test, pred))\n",
    "print('Precision Score: ', precision_score(y_test, pred, average = 'weighted'))\n",
    "print('Recall SCore: ', recall_score(y_test, pred, average = 'weighted'))\n",
    "print('F1 Score: ', f1_score(y_test, pred, average = 'weighted'))"
   ]
  },
  {
   "cell_type": "code",
   "execution_count": 72,
   "metadata": {},
   "outputs": [
    {
     "data": {
      "text/plain": [
       "array([[  0,   0,   1],\n",
       "       [  0, 147,  15],\n",
       "       [  0,  35,  64]])"
      ]
     },
     "execution_count": 72,
     "metadata": {},
     "output_type": "execute_result"
    }
   ],
   "source": [
    "from sklearn.metrics import confusion_matrix\n",
    "\n",
    "confusion_matrix(y_test, pred)"
   ]
  },
  {
   "cell_type": "markdown",
   "metadata": {},
   "source": [
    "### Naive Bayes"
   ]
  },
  {
   "cell_type": "code",
   "execution_count": 73,
   "metadata": {},
   "outputs": [
    {
     "data": {
      "text/plain": [
       "0.726145038167939"
      ]
     },
     "execution_count": 73,
     "metadata": {},
     "output_type": "execute_result"
    }
   ],
   "source": [
    "from sklearn.naive_bayes import MultinomialNB\n",
    "\n",
    "clf2 = MultinomialNB()\n",
    "clf2.fit(X_train, y_train)\n",
    "clf2.score(X_train, y_train)"
   ]
  },
  {
   "cell_type": "code",
   "execution_count": 74,
   "metadata": {},
   "outputs": [],
   "source": [
    "y_pred = clf2.predict(X_test)"
   ]
  },
  {
   "cell_type": "code",
   "execution_count": 75,
   "metadata": {},
   "outputs": [
    {
     "name": "stdout",
     "output_type": "stream",
     "text": [
      "accuracy score:  0.6679389312977099\n",
      "precision score:  0.6535777199899337\n",
      "recall_score:  0.6679389312977099\n",
      "F1 Score:  0.6355292060970857\n"
     ]
    }
   ],
   "source": [
    "from sklearn.metrics import accuracy_score, precision_score, recall_score, f1_score\n",
    "\n",
    "\n",
    "print('accuracy score: ', accuracy_score(y_test, y_pred))\n",
    "print('precision score: ', precision_score(y_test, y_pred, average = 'weighted'))\n",
    "print('recall_score: ', recall_score(y_test, y_pred, average = 'weighted'))\n",
    "print('F1 Score: ', f1_score(y_test, y_pred, average = 'weighted'))\n",
    "\n"
   ]
  },
  {
   "cell_type": "code",
   "execution_count": 76,
   "metadata": {},
   "outputs": [
    {
     "data": {
      "text/plain": [
       "array([[  0,   0,   1],\n",
       "       [  0, 143,  19],\n",
       "       [  0,  67,  32]])"
      ]
     },
     "execution_count": 76,
     "metadata": {},
     "output_type": "execute_result"
    }
   ],
   "source": [
    "from sklearn.metrics import confusion_matrix\n",
    "\n",
    "confusion_matrix(y_test, y_pred)"
   ]
  },
  {
   "cell_type": "code",
   "execution_count": 77,
   "metadata": {},
   "outputs": [
    {
     "name": "stdout",
     "output_type": "stream",
     "text": [
      "              precision    recall  f1-score   support\n",
      "\n",
      "          -1       0.00      0.00      0.00         1\n",
      "           0       0.68      0.88      0.77       162\n",
      "           1       0.62      0.32      0.42        99\n",
      "\n",
      "    accuracy                           0.67       262\n",
      "   macro avg       0.43      0.40      0.40       262\n",
      "weighted avg       0.65      0.67      0.64       262\n",
      "\n",
      "\n",
      "\n"
     ]
    }
   ],
   "source": [
    "from sklearn.metrics import classification_report\n",
    "print(classification_report(y_test, y_pred))\n",
    "print(\"\\n\")\n"
   ]
  },
  {
   "cell_type": "markdown",
   "metadata": {},
   "source": [
    "### Bernouli NB "
   ]
  },
  {
   "cell_type": "code",
   "execution_count": 78,
   "metadata": {},
   "outputs": [
    {
     "name": "stdout",
     "output_type": "stream",
     "text": [
      "Accuracy Score:  0.7900763358778626\n",
      "Precision Score:  0.7849655557624279\n",
      "Recall Score:  0.7900763358778626\n",
      "F1 Score:  0.7837335103183288\n",
      "\n",
      "\n"
     ]
    }
   ],
   "source": [
    "from sklearn.naive_bayes import BernoulliNB\n",
    "\n",
    "clf3 = BernoulliNB()\n",
    "clf3.fit(X_train, y_train)\n",
    "pred_nb = clf3.predict(X_test)\n",
    "\n",
    "print('Accuracy Score: ', accuracy_score(y_test, pred_nb))\n",
    "print('Precision Score: ', precision_score(y_test, pred_nb, average='weighted'))\n",
    "print('Recall Score: ', recall_score(y_test, pred_nb, average='weighted'))\n",
    "print('F1 Score: ', f1_score(y_test, pred_nb, average='weighted'))\n",
    "print(\"\\n\")"
   ]
  },
  {
   "cell_type": "markdown",
   "metadata": {},
   "source": [
    "### KNN Algorithm \n",
    "\n",
    "    We will use Classifier first \n",
    "    Then we will use the Regressor "
   ]
  },
  {
   "cell_type": "markdown",
   "metadata": {},
   "source": [
    "This is the Classifier "
   ]
  },
  {
   "cell_type": "code",
   "execution_count": 79,
   "metadata": {},
   "outputs": [
    {
     "data": {
      "text/plain": [
       "KNeighborsClassifier()"
      ]
     },
     "execution_count": 79,
     "metadata": {},
     "output_type": "execute_result"
    }
   ],
   "source": [
    "from sklearn.neighbors import KNeighborsClassifier\n",
    "\n",
    "clf4 = KNeighborsClassifier(n_neighbors = 5)\n",
    "clf4.fit(X_train, y_train)"
   ]
  },
  {
   "cell_type": "code",
   "execution_count": 80,
   "metadata": {},
   "outputs": [
    {
     "name": "stdout",
     "output_type": "stream",
     "text": [
      "Accuracy Score:  0.7137404580152672\n",
      "Precision Score:  0.7199509269356598\n",
      "Recall Score:  0.7137404580152672\n",
      "F1 Score:  0.7152188916687306\n",
      "\n",
      "\n"
     ]
    }
   ],
   "source": [
    "pred_kn = clf4.predict(X_test)\n",
    "\n",
    "print('Accuracy Score: ', accuracy_score(y_test, pred_kn))\n",
    "print('Precision Score: ', precision_score(y_test, pred_kn, average='weighted'))\n",
    "print('Recall Score: ', recall_score(y_test, pred_kn, average='weighted'))\n",
    "print('F1 Score: ', f1_score(y_test, pred_kn, average='weighted'))\n",
    "print(\"\\n\")"
   ]
  },
  {
   "cell_type": "code",
   "execution_count": 81,
   "metadata": {},
   "outputs": [
    {
     "name": "stdout",
     "output_type": "stream",
     "text": [
      "              precision    recall  f1-score   support\n",
      "\n",
      "          -1       0.00      0.00      0.00         1\n",
      "           0       0.79      0.73      0.76       162\n",
      "           1       0.61      0.69      0.64        99\n",
      "\n",
      "    accuracy                           0.71       262\n",
      "   macro avg       0.47      0.47      0.47       262\n",
      "weighted avg       0.72      0.71      0.72       262\n",
      "\n"
     ]
    }
   ],
   "source": [
    "print(classification_report(y_test, pred_kn))"
   ]
  },
  {
   "cell_type": "markdown",
   "metadata": {},
   "source": [
    "This is the KNN Regressor "
   ]
  },
  {
   "cell_type": "code",
   "execution_count": 82,
   "metadata": {},
   "outputs": [],
   "source": [
    "from sklearn.neighbors import KNeighborsRegressor\n",
    "regressor = KNeighborsRegressor()\n",
    "regressor.fit(X_train, y_train)\n",
    "\n",
    "pred_re = regressor.predict(X_test)"
   ]
  },
  {
   "cell_type": "code",
   "execution_count": 83,
   "metadata": {},
   "outputs": [
    {
     "name": "stdout",
     "output_type": "stream",
     "text": [
      "MSE:  0.19450381679389317\n",
      "Correlation=  0.19549771029163632\n"
     ]
    }
   ],
   "source": [
    "# Since we have mean squared error and r2_score already imported, we dont need to import it again. \n",
    "\n",
    "print('MSE: ', mean_squared_error(y_test, pred_re))\n",
    "print('Correlation= ', r2_score(y_test, pred_re))"
   ]
  },
  {
   "cell_type": "markdown",
   "metadata": {},
   "source": [
    "A Pretty good mse, but correlation is off. \n",
    "\n",
    "We can scale the data to see if we can get a better result. "
   ]
  },
  {
   "cell_type": "code",
   "execution_count": 84,
   "metadata": {},
   "outputs": [],
   "source": [
    "from sklearn import preprocessing\n",
    "\n",
    "scaler = preprocessing.StandardScaler().fit(X_train)\n",
    "\n",
    "X_train_scaled = scaler.transform(X_train)\n",
    "X_test_scaled = scaler.transform(X_test)"
   ]
  },
  {
   "cell_type": "code",
   "execution_count": 85,
   "metadata": {},
   "outputs": [
    {
     "name": "stdout",
     "output_type": "stream",
     "text": [
      "MSE:  0.5055131467345207\n",
      "Correlation: -1.0908920489542329\n"
     ]
    }
   ],
   "source": [
    "regressor2 = KNeighborsRegressor(n_neighbors=3)\n",
    "regressor2.fit(X_train, y_train)\n",
    "\n",
    "#make pred\n",
    "pred_sc = regressor2.predict(X_test_scaled)\n",
    "\n",
    "print('MSE: ', mean_squared_error(y_test, pred_sc))\n",
    "print('Correlation:' , r2_score(y_test, pred_sc))"
   ]
  },
  {
   "cell_type": "markdown",
   "metadata": {},
   "source": [
    "Got worse in correlation even after scaling the data. It is better not to use the KNN regression model on the data that we have. "
   ]
  },
  {
   "cell_type": "markdown",
   "metadata": {},
   "source": [
    "### Random Forest "
   ]
  },
  {
   "cell_type": "code",
   "execution_count": 86,
   "metadata": {},
   "outputs": [
    {
     "name": "stdout",
     "output_type": "stream",
     "text": [
      "              precision    recall  f1-score   support\n",
      "\n",
      "          -1       0.00      0.00      0.00         1\n",
      "           0       0.76      0.97      0.85       162\n",
      "           1       0.89      0.51      0.65        99\n",
      "\n",
      "    accuracy                           0.79       262\n",
      "   macro avg       0.55      0.49      0.50       262\n",
      "weighted avg       0.81      0.79      0.77       262\n",
      "\n"
     ]
    }
   ],
   "source": [
    "from sklearn.ensemble import RandomForestClassifier\n",
    "\n",
    "clf5 = RandomForestClassifier(max_depth = 5, random_state = 1234)\n",
    "clf5.fit(X_train, y_train)\n",
    "\n",
    "pred_rf = clf5.predict(X_test)\n",
    "\n",
    "print(classification_report(y_test, pred_rf))"
   ]
  },
  {
   "cell_type": "markdown",
   "metadata": {},
   "source": [
    "# Results and Analysis \n",
    "\n",
    "On the titanic dataset we used 7 algorithms to get a better understanding of which algorithms worked best for the test and train class that we craeted. \n",
    "Starting with\n",
    "    Linear Regression:\n",
    "        mse: 4.55 \n",
    "        cor: 1.0 \n",
    "    Logistic Regression:\n",
    "        model fit: 78%\n",
    "        accuracy: 80.5%\n",
    "        precision: 80.1%\n",
    "        recall: 80.5%\n",
    "        F1:     79.8%\n",
    "    Multinomial Naive Bayes: \n",
    "        model fit: 72%\n",
    "        accuracy: 66%\n",
    "        precision: 65.3%\n",
    "        recall: 66.7\n",
    "        F1:     63.5\n",
    "    Bernouli Naive Bayes:\n",
    "        accuracy: 79%\n",
    "        precision: 78.4%\n",
    "        recall:    79%\n",
    "        f1:         78.37%\n",
    "    KNN Classification: \n",
    "        accuracy: 71.3%\n",
    "        precision: 71.9%\n",
    "        recall:    71.3%\n",
    "        F1:       71.5%\n",
    "    KNN Regression\n",
    "        mse: .19  After scaling .5055\n",
    "        cor: .19 After scaling -1.09 \n",
    "    Random Forest:\n",
    "              0.   1   \n",
    "   precesion: 76, 81\n",
    "   recall:    97, 51\n",
    "   F1:       .85, .65 \n",
    "        \n",
    "The best results we got were from linear regression, logistical regression, Multinomial Naive Bayes, Bernouli Naive Bayes, and Knn Classification. In linear regression we have a low mse score, and a correlation of 1, which means that both sets of data are moving in the same direction, as age increases so does the fare, partly because a lot of older men and woman had money for the tickets and generally were in 1st class or 2nd class excpet for a few outliners. Both Naive Bayers performed almost the same, except Bernouli was better of the two. Knn Classification provided close accuract to that of the naive bayes however the regression model for Knn was poor, and was not likely to help at all. Lastly Random forrest also had good preceision and recall but not as good as the others. "
   ]
  },
  {
   "cell_type": "markdown",
   "metadata": {},
   "source": [
    "# Personal Opinion \n",
    "\n",
    "In my personal opinion, working in python was much easier than working in R. Once the libraries are downloaded and available, it makes it easier to read through error if they arise compared to R where there are multitudes of things that can go wrong. \n",
    "In R I personally came across many issues where I removed NA, however they were never actually removed of omitted from data, and later caused issues, where in Python, it is very easy to remove them, and actually work well as you work down the data. \n",
    "\n",
    "I decided to use all algorithms under one file, and I had no clashes in naming conventions or issues where the data were schewed. Python seems much simples once you get the hang of it. \n",
    "    In R as well there were issues with loading certain libraries and if they didn't have documentation then you are relying on the interpretation of what the column accronym are named. This is the case when you are working with dataset that are downloaded from the internet and not directly from libraries as well. \n",
    "\n",
    "In python you can simply choose to ignore those columns or just not use them while you are running algorithms on them. \n"
   ]
  }
 ],
 "metadata": {
  "kernelspec": {
   "display_name": "Python 3",
   "language": "python",
   "name": "python3"
  },
  "language_info": {
   "codemirror_mode": {
    "name": "ipython",
    "version": 3
   },
   "file_extension": ".py",
   "mimetype": "text/x-python",
   "name": "python",
   "nbconvert_exporter": "python",
   "pygments_lexer": "ipython3",
   "version": "3.8.0"
  }
 },
 "nbformat": 4,
 "nbformat_minor": 4
}
